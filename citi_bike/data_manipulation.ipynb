{
 "cells": [
  {
   "cell_type": "code",
   "execution_count": 1,
   "metadata": {
    "collapsed": true
   },
   "outputs": [],
   "source": [
    "import pandas as pd\n",
    "import numpy as np\n",
    "import sys, os \n",
    "import csv\n",
    "import glob\n",
    "from datetime import datetime"
   ]
  },
  {
   "cell_type": "code",
   "execution_count": 2,
   "metadata": {
    "collapsed": true
   },
   "outputs": [],
   "source": [
    "#we need a way to get the directory with all the csv files, this is to test \n",
    "#a method for getting all the files\n"
   ]
  },
  {
   "cell_type": "code",
   "execution_count": 3,
   "metadata": {
    "collapsed": true
   },
   "outputs": [],
   "source": [
    "#we'll use glob to access the files, create a path to the csv's\n",
    "path =\"csv/*.csv\"\n",
    "csv_list = glob.glob(path)"
   ]
  },
  {
   "cell_type": "code",
   "execution_count": 4,
   "metadata": {},
   "outputs": [
    {
     "data": {
      "text/plain": [
       "83"
      ]
     },
     "execution_count": 4,
     "metadata": {},
     "output_type": "execute_result"
    }
   ],
   "source": [
    "len(csv_list)"
   ]
  },
  {
   "cell_type": "code",
   "execution_count": 8,
   "metadata": {
    "collapsed": true
   },
   "outputs": [],
   "source": [
    "#use some loops to go through each csv file, write each line into a single open csv file\n",
    "with open('citi_ride.csv', 'a') as singleFile:\n",
    "    for csvFile in glob.glob(\"csv/*.csv\"):\n",
    "        for line in open(csvFile, 'r'):\n",
    "            singleFile.write(line)"
   ]
  },
  {
   "cell_type": "code",
   "execution_count": 37,
   "metadata": {},
   "outputs": [
    {
     "name": "stderr",
     "output_type": "stream",
     "text": [
      "/Users/jayklein95/anaconda/lib/python3.6/site-packages/IPython/core/interactiveshell.py:2717: DtypeWarning: Columns (0,3,5,6,7,9,10,11,13,14) have mixed types. Specify dtype option on import or set low_memory=False.\n",
      "  interactivity=interactivity, compiler=compiler, result=result)\n"
     ]
    }
   ],
   "source": [
    "#lets just take a quick look at it. \n",
    "df = pd.read_csv('citi_ride.csv')"
   ]
  },
  {
   "cell_type": "code",
   "execution_count": 31,
   "metadata": {},
   "outputs": [
    {
     "data": {
      "text/plain": [
       "Trip Duration              object\n",
       "Start Time                 object\n",
       "Stop Time                  object\n",
       "Start Station ID           object\n",
       "Start Station Name         object\n",
       "Start Station Latitude     object\n",
       "Start Station Longitude    object\n",
       "End Station ID             object\n",
       "End Station Name           object\n",
       "End Station Latitude       object\n",
       "End Station Longitude      object\n",
       "Bike ID                    object\n",
       "User Type                  object\n",
       "Birth Year                 object\n",
       "Gender                     object\n",
       "dtype: object"
      ]
     },
     "execution_count": 31,
     "metadata": {},
     "output_type": "execute_result"
    }
   ],
   "source": [
    "df.dtypes"
   ]
  },
  {
   "cell_type": "code",
   "execution_count": 32,
   "metadata": {},
   "outputs": [
    {
     "data": {
      "text/html": [
       "<div>\n",
       "<style>\n",
       "    .dataframe thead tr:only-child th {\n",
       "        text-align: right;\n",
       "    }\n",
       "\n",
       "    .dataframe thead th {\n",
       "        text-align: left;\n",
       "    }\n",
       "\n",
       "    .dataframe tbody tr th {\n",
       "        vertical-align: top;\n",
       "    }\n",
       "</style>\n",
       "<table border=\"1\" class=\"dataframe\">\n",
       "  <thead>\n",
       "    <tr style=\"text-align: right;\">\n",
       "      <th></th>\n",
       "      <th>Trip Duration</th>\n",
       "      <th>Start Time</th>\n",
       "      <th>Stop Time</th>\n",
       "      <th>Start Station ID</th>\n",
       "      <th>Start Station Name</th>\n",
       "      <th>Start Station Latitude</th>\n",
       "      <th>Start Station Longitude</th>\n",
       "      <th>End Station ID</th>\n",
       "      <th>End Station Name</th>\n",
       "      <th>End Station Latitude</th>\n",
       "      <th>End Station Longitude</th>\n",
       "      <th>Bike ID</th>\n",
       "      <th>User Type</th>\n",
       "      <th>Birth Year</th>\n",
       "      <th>Gender</th>\n",
       "    </tr>\n",
       "  </thead>\n",
       "  <tbody>\n",
       "    <tr>\n",
       "      <th>0</th>\n",
       "      <td>148</td>\n",
       "      <td>2017-01-01 00:21:32</td>\n",
       "      <td>2017-01-01 00:24:01</td>\n",
       "      <td>3276</td>\n",
       "      <td>Marin Light Rail</td>\n",
       "      <td>40.71458403535893</td>\n",
       "      <td>-74.04281705617905</td>\n",
       "      <td>3185</td>\n",
       "      <td>City Hall</td>\n",
       "      <td>40.7177325</td>\n",
       "      <td>-74.043845</td>\n",
       "      <td>24575</td>\n",
       "      <td>Subscriber</td>\n",
       "      <td>1983</td>\n",
       "      <td>1</td>\n",
       "    </tr>\n",
       "    <tr>\n",
       "      <th>1</th>\n",
       "      <td>1283</td>\n",
       "      <td>2017-01-01 00:24:35</td>\n",
       "      <td>2017-01-01 00:45:58</td>\n",
       "      <td>3183</td>\n",
       "      <td>Exchange Place</td>\n",
       "      <td>40.7162469</td>\n",
       "      <td>-74.0334588</td>\n",
       "      <td>3198</td>\n",
       "      <td>Heights Elevator</td>\n",
       "      <td>40.748715945380226</td>\n",
       "      <td>-74.04044330120087</td>\n",
       "      <td>24723</td>\n",
       "      <td>Subscriber</td>\n",
       "      <td>1978</td>\n",
       "      <td>1</td>\n",
       "    </tr>\n",
       "    <tr>\n",
       "      <th>2</th>\n",
       "      <td>372</td>\n",
       "      <td>2017-01-01 00:38:19</td>\n",
       "      <td>2017-01-01 00:44:31</td>\n",
       "      <td>3183</td>\n",
       "      <td>Exchange Place</td>\n",
       "      <td>40.7162469</td>\n",
       "      <td>-74.0334588</td>\n",
       "      <td>3211</td>\n",
       "      <td>Newark Ave</td>\n",
       "      <td>40.72152515</td>\n",
       "      <td>-74.046304543</td>\n",
       "      <td>24620</td>\n",
       "      <td>Subscriber</td>\n",
       "      <td>1989</td>\n",
       "      <td>1</td>\n",
       "    </tr>\n",
       "  </tbody>\n",
       "</table>\n",
       "</div>"
      ],
      "text/plain": [
       "  Trip Duration           Start Time            Stop Time Start Station ID  \\\n",
       "0           148  2017-01-01 00:21:32  2017-01-01 00:24:01             3276   \n",
       "1          1283  2017-01-01 00:24:35  2017-01-01 00:45:58             3183   \n",
       "2           372  2017-01-01 00:38:19  2017-01-01 00:44:31             3183   \n",
       "\n",
       "  Start Station Name Start Station Latitude Start Station Longitude  \\\n",
       "0   Marin Light Rail      40.71458403535893      -74.04281705617905   \n",
       "1     Exchange Place             40.7162469             -74.0334588   \n",
       "2     Exchange Place             40.7162469             -74.0334588   \n",
       "\n",
       "  End Station ID  End Station Name End Station Latitude End Station Longitude  \\\n",
       "0           3185         City Hall           40.7177325            -74.043845   \n",
       "1           3198  Heights Elevator   40.748715945380226    -74.04044330120087   \n",
       "2           3211        Newark Ave          40.72152515         -74.046304543   \n",
       "\n",
       "  Bike ID   User Type Birth Year Gender  \n",
       "0   24575  Subscriber       1983      1  \n",
       "1   24723  Subscriber       1978      1  \n",
       "2   24620  Subscriber       1989      1  "
      ]
     },
     "execution_count": 32,
     "metadata": {},
     "output_type": "execute_result"
    }
   ],
   "source": [
    "df.head(3)"
   ]
  },
  {
   "cell_type": "code",
   "execution_count": 33,
   "metadata": {},
   "outputs": [
    {
     "data": {
      "text/plain": [
       "Trip Duration              object\n",
       "Start Time                 object\n",
       "Stop Time                  object\n",
       "Start Station ID           object\n",
       "Start Station Name         object\n",
       "Start Station Latitude     object\n",
       "Start Station Longitude    object\n",
       "End Station ID             object\n",
       "End Station Name           object\n",
       "End Station Latitude       object\n",
       "End Station Longitude      object\n",
       "Bike ID                    object\n",
       "User Type                  object\n",
       "Birth Year                 object\n",
       "Gender                     object\n",
       "dtype: object"
      ]
     },
     "execution_count": 33,
     "metadata": {},
     "output_type": "execute_result"
    }
   ],
   "source": [
    "df.dtypes"
   ]
  },
  {
   "cell_type": "code",
   "execution_count": null,
   "metadata": {
    "collapsed": true
   },
   "outputs": [],
   "source": []
  }
 ],
 "metadata": {
  "kernelspec": {
   "display_name": "Python 3",
   "language": "python",
   "name": "python3"
  },
  "language_info": {
   "codemirror_mode": {
    "name": "ipython",
    "version": 3
   },
   "file_extension": ".py",
   "mimetype": "text/x-python",
   "name": "python",
   "nbconvert_exporter": "python",
   "pygments_lexer": "ipython3",
   "version": "3.6.1"
  }
 },
 "nbformat": 4,
 "nbformat_minor": 2
}
